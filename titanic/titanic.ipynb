{
 "cells": [
  {
   "cell_type": "code",
   "execution_count": 1,
   "metadata": {
    "_cell_guid": "79c7e3d0-c299-4dcb-8224-4455121ee9b0",
    "_uuid": "d629ff2d2480ee46fbb7e2d37f6b5fab8052498a",
    "scrolled": false
   },
   "outputs": [],
   "source": [
    "#khn0206@gmail.com\n",
    "\n",
    "import tensorflow as tf\n",
    "import pandas as pd\n",
    "import numpy as np\n",
    "import math\n",
    "\n",
    "train_df = pd.read_csv('data/train.csv')\n",
    "test_df = pd.read_csv('data/test.csv')\n",
    "result_df = pd.read_csv('data/test.csv', usecols=['PassengerId'])\n",
    "\n",
    "train_df = train_df.drop(['PassengerId', 'Name', 'Ticket'], axis=1)\n",
    "test_df = test_df.drop(['PassengerId', 'Name', 'Ticket'], axis=1)"
   ]
  },
  {
   "cell_type": "code",
   "execution_count": 2,
   "metadata": {
    "_uuid": "f360a608114108d2cf483a37d715751f8f114c2a"
   },
   "outputs": [],
   "source": [
    "def convertDataToNumber(df, namelist):\n",
    "    for name in namelist:\n",
    "        name_class = df[name].unique()\n",
    "        pairs = {}\n",
    "        for index in range(len(name_class)):\n",
    "            pairs[name_class[index]] = index\n",
    "        for key, value in pairs.items():\n",
    "            df[name] = df[name].replace(key, value)\n",
    "    return df\n",
    "\n",
    "def preprocessingData(df):\n",
    "    \n",
    "    age_mean_male = int(df[['Sex','Age']].loc[df['Sex'] == 'male'].mean())\n",
    "    age_mean_female = int(df[['Sex','Age']].loc[df['Sex'] == 'female'].mean())\n",
    "\n",
    "    for index, row in df.iterrows():\n",
    "        if pd.isnull(row['Age']) and row['Sex'] == 'male':\n",
    "            df.set_value(index, 'Age', age_mean_male)\n",
    "        elif pd.isnull(row['Age']) and row['Sex'] == 'female':\n",
    "            df.set_value(index, 'Age', age_mean_female)\n",
    "    \n",
    "    df['Embarked'] = df['Embarked'].fillna('S')\n",
    "    \n",
    "    df['Cabin'] = df['Cabin'].str[0]\n",
    "    df['Cabin'] = df['Cabin'].fillna('N')\n",
    "    \n",
    "    df = convertDataToNumber(df, ['Sex', 'Embarked', 'Cabin'])\n",
    "    \n",
    "    df_normalized = (df - df.mean()) / (df.max() - df.min())\n",
    "    \n",
    "    return df_normalized\n",
    "    \n",
    "def getBatch(df, index=None):\n",
    "    batch = df.sample(50)\n",
    "    \n",
    "    batch_x = batch[['Pclass', 'Sex', 'Age', 'SibSp', 'Parch', 'Fare', 'Cabin', 'Embarked']]\n",
    "    batch_y = pd.get_dummies(batch.pop('Survived').values).as_matrix()\n",
    "    \n",
    "    return batch_x, batch_y"
   ]
  },
  {
   "cell_type": "code",
   "execution_count": 3,
   "metadata": {
    "_uuid": "57d7813b792e86f86ffe753bccf4a9500bcac2c5"
   },
   "outputs": [
    {
     "name": "stderr",
     "output_type": "stream",
     "text": [
      "C:\\Users\\khn02\\Anaconda3\\lib\\site-packages\\ipykernel_launcher.py:18: FutureWarning: set_value is deprecated and will be removed in a future release. Please use .at[] or .iat[] accessors instead\n",
      "C:\\Users\\khn02\\Anaconda3\\lib\\site-packages\\ipykernel_launcher.py:20: FutureWarning: set_value is deprecated and will be removed in a future release. Please use .at[] or .iat[] accessors instead\n"
     ]
    }
   ],
   "source": [
    "train_df = preprocessingData(train_df)\n",
    "test_df = preprocessingData(test_df)"
   ]
  },
  {
   "cell_type": "code",
   "execution_count": 4,
   "metadata": {},
   "outputs": [],
   "source": [
    "X = tf.placeholder('float32', [None, train_df.shape[1] - 1])\n",
    "Y = tf.placeholder('float32', [None, 2])\n",
    "\n",
    "W1 = tf.Variable(tf.zeros([8, 100]))\n",
    "b1 = tf.Variable(tf.zeros([100]))\n",
    "\n",
    "layer1 = tf.nn.sigmoid(tf.matmul(X, W1) + b1)\n",
    "layer1 = tf.nn.dropout(layer1, 0.9)\n",
    "\n",
    "W2 = tf.Variable(tf.zeros([100, 2]))\n",
    "b2 = tf.Variable(tf.zeros([2]))\n",
    "\n",
    "hypothesis = tf.nn.softmax(tf.matmul(layer1, W2))\n",
    "\n",
    "cost = tf.reduce_mean(-tf.reduce_sum(Y * tf.log(hypothesis + 1e-10), reduction_indices=1))\n",
    "optimizer = tf.train.AdamOptimizer(0.001).minimize(cost)"
   ]
  },
  {
   "cell_type": "code",
   "execution_count": 5,
   "metadata": {
    "_uuid": "cbded58ed5e85510dc31dd204cf2272544430f25"
   },
   "outputs": [
    {
     "name": "stderr",
     "output_type": "stream",
     "text": [
      "C:\\Users\\khn02\\Anaconda3\\lib\\site-packages\\ipykernel_launcher.py:37: FutureWarning: Method .as_matrix will be removed in a future version. Use .values instead.\n"
     ]
    },
    {
     "name": "stdout",
     "output_type": "stream",
     "text": [
      "Epoch: 0001 cost = 0.666044075\n",
      "Epoch: 0002 cost = 0.659125881\n",
      "Epoch: 0003 cost = 0.630030705\n",
      "Epoch: 0004 cost = 0.549119245\n",
      "Epoch: 0005 cost = 0.494032066\n",
      "Epoch: 0006 cost = 0.464893915\n",
      "Epoch: 0007 cost = 0.459366334\n",
      "Epoch: 0008 cost = 0.442951286\n",
      "Epoch: 0009 cost = 0.449523885\n",
      "Epoch: 0010 cost = 0.443674448\n",
      "Epoch: 0011 cost = 0.435542387\n",
      "Epoch: 0012 cost = 0.457753942\n",
      "Epoch: 0013 cost = 0.441554425\n",
      "Epoch: 0014 cost = 0.450615861\n",
      "Epoch: 0015 cost = 0.457382766\n",
      "Epoch: 0016 cost = 0.442442662\n",
      "Epoch: 0017 cost = 0.438891343\n",
      "Epoch: 0018 cost = 0.442781153\n",
      "Epoch: 0019 cost = 0.439981462\n",
      "Epoch: 0020 cost = 0.444302201\n",
      "Epoch: 0021 cost = 0.431644592\n",
      "Epoch: 0022 cost = 0.439669166\n",
      "Epoch: 0023 cost = 0.441373792\n",
      "Epoch: 0024 cost = 0.450630963\n",
      "Epoch: 0025 cost = 0.455151668\n",
      "Epoch: 0026 cost = 0.446380751\n",
      "Epoch: 0027 cost = 0.417786954\n",
      "Epoch: 0028 cost = 0.438400355\n",
      "Epoch: 0029 cost = 0.446547982\n",
      "Epoch: 0030 cost = 0.436564835\n",
      "Epoch: 0031 cost = 0.447862744\n",
      "Epoch: 0032 cost = 0.460983081\n",
      "Epoch: 0033 cost = 0.444777634\n",
      "Epoch: 0034 cost = 0.448108335\n",
      "Epoch: 0035 cost = 0.457257704\n",
      "Epoch: 0036 cost = 0.441119028\n",
      "Epoch: 0037 cost = 0.450115548\n",
      "Epoch: 0038 cost = 0.447217178\n",
      "Epoch: 0039 cost = 0.438371390\n",
      "Epoch: 0040 cost = 0.444136406\n",
      "Epoch: 0041 cost = 0.442311268\n",
      "Epoch: 0042 cost = 0.435242893\n",
      "Epoch: 0043 cost = 0.442271502\n",
      "Epoch: 0044 cost = 0.442031696\n",
      "Epoch: 0045 cost = 0.452206677\n",
      "Epoch: 0046 cost = 0.450953920\n",
      "Epoch: 0047 cost = 0.442554400\n",
      "Epoch: 0048 cost = 0.456124974\n",
      "Epoch: 0049 cost = 0.436281799\n",
      "Epoch: 0050 cost = 0.442675338\n",
      "Epoch: 0051 cost = 0.449596610\n",
      "Epoch: 0052 cost = 0.441153596\n",
      "Epoch: 0053 cost = 0.444106098\n",
      "Epoch: 0054 cost = 0.444144886\n",
      "Epoch: 0055 cost = 0.439751855\n",
      "Epoch: 0056 cost = 0.439945898\n",
      "Epoch: 0057 cost = 0.427119094\n",
      "Epoch: 0058 cost = 0.447451699\n",
      "Epoch: 0059 cost = 0.454172759\n",
      "Epoch: 0060 cost = 0.429335187\n",
      "Epoch: 0061 cost = 0.455387766\n",
      "Epoch: 0062 cost = 0.445644349\n",
      "Epoch: 0063 cost = 0.451798722\n",
      "Epoch: 0064 cost = 0.449067548\n",
      "Epoch: 0065 cost = 0.438460939\n",
      "Epoch: 0066 cost = 0.430653782\n",
      "Epoch: 0067 cost = 0.436068043\n",
      "Epoch: 0068 cost = 0.438572262\n",
      "Epoch: 0069 cost = 0.443087180\n",
      "Epoch: 0070 cost = 0.424512007\n",
      "Epoch: 0071 cost = 0.447393150\n",
      "Epoch: 0072 cost = 0.438626107\n",
      "Epoch: 0073 cost = 0.438857703\n",
      "Epoch: 0074 cost = 0.436870840\n",
      "Epoch: 0075 cost = 0.443688129\n",
      "Epoch: 0076 cost = 0.445221281\n",
      "Epoch: 0077 cost = 0.427363208\n",
      "Epoch: 0078 cost = 0.432909846\n",
      "Epoch: 0079 cost = 0.444255518\n",
      "Epoch: 0080 cost = 0.443873236\n",
      "Epoch: 0081 cost = 0.441117613\n",
      "Epoch: 0082 cost = 0.447734826\n",
      "Epoch: 0083 cost = 0.447350751\n",
      "Epoch: 0084 cost = 0.434879897\n",
      "Epoch: 0085 cost = 0.440816434\n",
      "Epoch: 0086 cost = 0.440336512\n",
      "Epoch: 0087 cost = 0.426149170\n",
      "Epoch: 0088 cost = 0.442854022\n",
      "Epoch: 0089 cost = 0.442662510\n",
      "Epoch: 0090 cost = 0.452038409\n",
      "Epoch: 0091 cost = 0.450056402\n",
      "Epoch: 0092 cost = 0.442233997\n",
      "Epoch: 0093 cost = 0.440176841\n",
      "Epoch: 0094 cost = 0.455375420\n",
      "Epoch: 0095 cost = 0.451961124\n",
      "Epoch: 0096 cost = 0.432135634\n",
      "Epoch: 0097 cost = 0.421195725\n",
      "Epoch: 0098 cost = 0.431079885\n",
      "Epoch: 0099 cost = 0.424535930\n",
      "Epoch: 0100 cost = 0.437184522\n",
      "Leaning finished\n"
     ]
    }
   ],
   "source": [
    "sess = tf.Session()\n",
    "\n",
    "sess.run(tf.global_variables_initializer())\n",
    "\n",
    "training_epochs = 100\n",
    "total_batch = 100\n",
    "\n",
    "for epoch in range(training_epochs):\n",
    "    avg_cost = 0    \n",
    "    for i in range(total_batch):        \n",
    "        batch_x, batch_y = getBatch(train_df)\n",
    "        feed_dict = {X:batch_x, Y:batch_y}\n",
    "        c, _ = sess.run([cost, optimizer], feed_dict=feed_dict)\n",
    "        avg_cost += c / total_batch\n",
    "    print('Epoch:', '%04d' % (epoch + 1), 'cost =', '{:.9f}'.format(avg_cost))\n",
    "    \n",
    "print('Leaning finished')"
   ]
  },
  {
   "cell_type": "code",
   "execution_count": 6,
   "metadata": {
    "_uuid": "bb085cee231c9bfbe639b5795a27ab2c9342ba69"
   },
   "outputs": [
    {
     "name": "stdout",
     "output_type": "stream",
     "text": [
      "WARNING:tensorflow:From <ipython-input-6-c1b30a894cb8>:4: calling argmax (from tensorflow.python.ops.math_ops) with dimension is deprecated and will be removed in a future version.\n",
      "Instructions for updating:\n",
      "Use the `axis` argument instead\n"
     ]
    }
   ],
   "source": [
    "test_df = test_df[['Pclass', 'Sex', 'Age', 'SibSp', 'Parch', 'Fare', 'Cabin', 'Embarked']]\n",
    "\n",
    "prediction = sess.run(hypothesis, feed_dict={X:test_df})\n",
    "refined_prediction = sess.run(tf.argmax(prediction, dimension=1))\n",
    "\n",
    "result_df.loc[:,'Survived'] = refined_prediction\n",
    "\n",
    "result_df.to_csv(\"my_solution.csv\", index=False)"
   ]
  }
 ],
 "metadata": {
  "kernelspec": {
   "display_name": "Python 3",
   "language": "python",
   "name": "python3"
  },
  "language_info": {
   "codemirror_mode": {
    "name": "ipython",
    "version": 3
   },
   "file_extension": ".py",
   "mimetype": "text/x-python",
   "name": "python",
   "nbconvert_exporter": "python",
   "pygments_lexer": "ipython3",
   "version": "3.6.6"
  }
 },
 "nbformat": 4,
 "nbformat_minor": 1
}
