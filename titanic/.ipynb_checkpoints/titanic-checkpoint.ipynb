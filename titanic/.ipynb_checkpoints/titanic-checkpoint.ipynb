{
 "cells": [
  {
   "cell_type": "code",
   "execution_count": 1,
   "metadata": {
    "_cell_guid": "79c7e3d0-c299-4dcb-8224-4455121ee9b0",
    "_uuid": "d629ff2d2480ee46fbb7e2d37f6b5fab8052498a",
    "scrolled": false
   },
   "outputs": [],
   "source": [
    "#khn0206@gmail.com\n",
    "\n",
    "import tensorflow as tf\n",
    "import pandas as pd\n",
    "import numpy as np\n",
    "import math\n",
    "\n",
    "train_df = pd.read_csv('data/train.csv')\n",
    "test_df = pd.read_csv('data/test.csv')\n",
    "result_df = pd.read_csv('data/test.csv', usecols=['PassengerId'])\n",
    "\n",
    "train_df = train_df.drop(['PassengerId', 'Name', 'Ticket'], axis=1)\n",
    "test_df = test_df.drop(['PassengerId', 'Name', 'Ticket'], axis=1)"
   ]
  },
  {
   "cell_type": "code",
   "execution_count": 2,
   "metadata": {
    "_uuid": "f360a608114108d2cf483a37d715751f8f114c2a"
   },
   "outputs": [],
   "source": [
    "def convertDataToNumber(df, namelist):\n",
    "    for name in namelist:\n",
    "        name_class = df[name].unique()\n",
    "        pairs = {}\n",
    "        for index in range(len(name_class)):\n",
    "            pairs[name_class[index]] = index\n",
    "        for key, value in pairs.items():\n",
    "            df[name] = df[name].replace(key, value)\n",
    "    return df\n",
    "\n",
    "def preprocessingData(df):\n",
    "    \n",
    "    age_mean_male = int(df[['Sex','Age']].loc[df['Sex'] == 'male'].mean())\n",
    "    age_mean_female = int(df[['Sex','Age']].loc[df['Sex'] == 'female'].mean())\n",
    "\n",
    "    for index, row in df.iterrows():\n",
    "        if pd.isnull(row['Age']) and row['Sex'] == 'male':\n",
    "            df.set_value(index, 'Age', age_mean_male)\n",
    "        elif pd.isnull(row['Age']) and row['Sex'] == 'female':\n",
    "            df.set_value(index, 'Age', age_mean_female)\n",
    "    \n",
    "    df['Embarked'] = df['Embarked'].fillna('S')\n",
    "    \n",
    "    df['Cabin'] = df['Cabin'].str[0]\n",
    "    df['Cabin'] = df['Cabin'].fillna('N')\n",
    "    \n",
    "    df = convertDataToNumber(df, ['Sex', 'Embarked', 'Cabin'])\n",
    "    \n",
    "    df_normalized = (df - df.mean()) / (df.max() - df.min())\n",
    "    \n",
    "    return df_normalized\n",
    "    \n",
    "def getBatch(df, index=None):\n",
    "    batch = df.sample(50)\n",
    "    \n",
    "    batch_x = batch[['Pclass', 'Sex', 'Age', 'SibSp', 'Parch', 'Fare', 'Cabin', 'Embarked']]\n",
    "    batch_y = pd.get_dummies(batch.pop('Survived').values).as_matrix()\n",
    "    \n",
    "    return batch_x, batch_y"
   ]
  },
  {
   "cell_type": "code",
   "execution_count": 3,
   "metadata": {
    "_uuid": "57d7813b792e86f86ffe753bccf4a9500bcac2c5"
   },
   "outputs": [
    {
     "name": "stderr",
     "output_type": "stream",
     "text": [
      "C:\\Users\\khn02\\Anaconda3\\lib\\site-packages\\ipykernel_launcher.py:18: FutureWarning: set_value is deprecated and will be removed in a future release. Please use .at[] or .iat[] accessors instead\n",
      "C:\\Users\\khn02\\Anaconda3\\lib\\site-packages\\ipykernel_launcher.py:20: FutureWarning: set_value is deprecated and will be removed in a future release. Please use .at[] or .iat[] accessors instead\n"
     ]
    }
   ],
   "source": [
    "train_df = preprocessingData(train_df)\n",
    "test_df = preprocessingData(test_df)"
   ]
  },
  {
   "cell_type": "code",
   "execution_count": 4,
   "metadata": {
    "_uuid": "6f1d969b768547dbe11cc6e4e75a76bf8739cf90"
   },
   "outputs": [],
   "source": [
    "X = tf.placeholder('float32', [None, train_df.shape[1] - 1])\n",
    "Y = tf.placeholder('float32', [None, 2])\n",
    "\n",
    "W1 = tf.Variable(tf.zeros([8, 100]))\n",
    "b1 = tf.Variable(tf.zeros([100]))\n",
    "\n",
    "layer1 = tf.nn.sigmoid(tf.matmul(X, W1) + b1)\n",
    "layer1 = tf.nn.dropout(layer1, 0.9)\n",
    "\n",
    "W2 = tf.Variable(tf.zeros([100, 2]))\n",
    "b2 = tf.Variable(tf.zeros([2]))\n",
    "\n",
    "hypothesis = tf.nn.softmax(tf.matmul(layer1, W2))\n",
    "\n",
    "cost = tf.reduce_mean(-tf.reduce_sum(Y * tf.log(hypothesis + 1e-10), reduction_indices=1))\n",
    "optimizer = tf.train.AdamOptimizer(0.001).minimize(cost)"
   ]
  },
  {
   "cell_type": "code",
   "execution_count": 5,
   "metadata": {
    "_uuid": "cbded58ed5e85510dc31dd204cf2272544430f25"
   },
   "outputs": [
    {
     "name": "stderr",
     "output_type": "stream",
     "text": [
      "C:\\Users\\khn02\\Anaconda3\\lib\\site-packages\\ipykernel_launcher.py:37: FutureWarning: Method .as_matrix will be removed in a future version. Use .values instead.\n"
     ]
    },
    {
     "name": "stdout",
     "output_type": "stream",
     "text": [
      "Epoch: 0001 cost = 0.528477374\n",
      "Epoch: 0002 cost = 0.443611670\n",
      "Epoch: 0003 cost = 0.446473356\n",
      "Epoch: 0004 cost = 0.446720853\n",
      "Epoch: 0005 cost = 0.444614817\n",
      "Epoch: 0006 cost = 0.446765987\n",
      "Epoch: 0007 cost = 0.446903205\n",
      "Epoch: 0008 cost = 0.443247292\n",
      "Epoch: 0009 cost = 0.441617763\n",
      "Epoch: 0010 cost = 0.442518259\n",
      "Epoch: 0011 cost = 0.445032333\n",
      "Epoch: 0012 cost = 0.440963879\n",
      "Epoch: 0013 cost = 0.440080813\n",
      "Epoch: 0014 cost = 0.440683288\n",
      "Epoch: 0015 cost = 0.441478816\n",
      "Epoch: 0016 cost = 0.433040048\n",
      "Epoch: 0017 cost = 0.433448420\n",
      "Epoch: 0018 cost = 0.431728056\n",
      "Epoch: 0019 cost = 0.430918319\n",
      "Epoch: 0020 cost = 0.432937163\n",
      "Epoch: 0021 cost = 0.429277132\n",
      "Epoch: 0022 cost = 0.429065476\n",
      "Epoch: 0023 cost = 0.428650672\n",
      "Epoch: 0024 cost = 0.428152132\n",
      "Epoch: 0025 cost = 0.420666069\n",
      "Epoch: 0026 cost = 0.420851546\n",
      "Epoch: 0027 cost = 0.423082354\n",
      "Epoch: 0028 cost = 0.424020251\n",
      "Epoch: 0029 cost = 0.420986253\n",
      "Epoch: 0030 cost = 0.420886505\n",
      "Epoch: 0031 cost = 0.422252953\n",
      "Epoch: 0032 cost = 0.415751772\n",
      "Epoch: 0033 cost = 0.421967281\n",
      "Epoch: 0034 cost = 0.418270399\n",
      "Epoch: 0035 cost = 0.419904872\n",
      "Epoch: 0036 cost = 0.418957429\n",
      "Epoch: 0037 cost = 0.419066071\n",
      "Epoch: 0038 cost = 0.415832273\n",
      "Epoch: 0039 cost = 0.414577760\n",
      "Epoch: 0040 cost = 0.414396962\n",
      "Epoch: 0041 cost = 0.409697419\n",
      "Epoch: 0042 cost = 0.411182117\n",
      "Epoch: 0043 cost = 0.410376415\n",
      "Epoch: 0044 cost = 0.412771131\n",
      "Epoch: 0045 cost = 0.405247016\n",
      "Epoch: 0046 cost = 0.408508285\n",
      "Epoch: 0047 cost = 0.407994675\n",
      "Epoch: 0048 cost = 0.404751914\n",
      "Epoch: 0049 cost = 0.411508066\n",
      "Epoch: 0050 cost = 0.404816891\n",
      "Epoch: 0051 cost = 0.407138294\n",
      "Epoch: 0052 cost = 0.405189574\n",
      "Epoch: 0053 cost = 0.402678971\n",
      "Epoch: 0054 cost = 0.400863060\n",
      "Epoch: 0055 cost = 0.398575399\n",
      "Epoch: 0056 cost = 0.401829311\n",
      "Epoch: 0057 cost = 0.402621134\n",
      "Epoch: 0058 cost = 0.398515753\n",
      "Epoch: 0059 cost = 0.400011971\n",
      "Epoch: 0060 cost = 0.400566907\n",
      "Epoch: 0061 cost = 0.399207423\n",
      "Epoch: 0062 cost = 0.401177594\n",
      "Epoch: 0063 cost = 0.404486437\n",
      "Epoch: 0064 cost = 0.396298245\n",
      "Epoch: 0065 cost = 0.397126038\n",
      "Epoch: 0066 cost = 0.396819015\n",
      "Epoch: 0067 cost = 0.395751344\n",
      "Epoch: 0068 cost = 0.396946725\n",
      "Epoch: 0069 cost = 0.399505784\n",
      "Epoch: 0070 cost = 0.388819321\n",
      "Epoch: 0071 cost = 0.393244617\n",
      "Epoch: 0072 cost = 0.397180230\n",
      "Epoch: 0073 cost = 0.389979312\n",
      "Epoch: 0074 cost = 0.394953195\n",
      "Epoch: 0075 cost = 0.387432086\n",
      "Epoch: 0076 cost = 0.391788851\n",
      "Epoch: 0077 cost = 0.392174317\n",
      "Epoch: 0078 cost = 0.382977188\n",
      "Epoch: 0079 cost = 0.388439007\n",
      "Epoch: 0080 cost = 0.383469191\n",
      "Epoch: 0081 cost = 0.387742257\n",
      "Epoch: 0082 cost = 0.386892063\n",
      "Epoch: 0083 cost = 0.381284443\n",
      "Epoch: 0084 cost = 0.385686763\n",
      "Epoch: 0085 cost = 0.385068269\n",
      "Epoch: 0086 cost = 0.381640642\n",
      "Epoch: 0087 cost = 0.383168952\n",
      "Epoch: 0088 cost = 0.382646641\n",
      "Epoch: 0089 cost = 0.379090403\n",
      "Epoch: 0090 cost = 0.376855080\n",
      "Epoch: 0091 cost = 0.372972674\n",
      "Epoch: 0092 cost = 0.373373461\n",
      "Epoch: 0093 cost = 0.375679438\n",
      "Epoch: 0094 cost = 0.376770514\n",
      "Epoch: 0095 cost = 0.374023735\n",
      "Epoch: 0096 cost = 0.374844145\n",
      "Epoch: 0097 cost = 0.375605192\n",
      "Epoch: 0098 cost = 0.373462723\n",
      "Epoch: 0099 cost = 0.376265864\n",
      "Epoch: 0100 cost = 0.374167261\n",
      "Leaning finished\n"
     ]
    }
   ],
   "source": [
    "sess = tf.Session()\n",
    "\n",
    "sess.run(tf.global_variables_initializer())\n",
    "\n",
    "training_epochs = 100\n",
    "total_batch = 1000\n",
    "\n",
    "for epoch in range(training_epochs):\n",
    "    avg_cost = 0    \n",
    "    for i in range(total_batch):        \n",
    "        batch_x, batch_y = getBatch(train_df)\n",
    "        feed_dict = {X:batch_x, Y:batch_y}\n",
    "        c, _ = sess.run([cost, optimizer], feed_dict=feed_dict)\n",
    "        avg_cost += c / total_batch\n",
    "    print('Epoch:', '%04d' % (epoch + 1), 'cost =', '{:.9f}'.format(avg_cost))\n",
    "    \n",
    "print('Leaning finished')"
   ]
  },
  {
   "cell_type": "code",
   "execution_count": 6,
   "metadata": {
    "_uuid": "bb085cee231c9bfbe639b5795a27ab2c9342ba69"
   },
   "outputs": [
    {
     "name": "stdout",
     "output_type": "stream",
     "text": [
      "WARNING:tensorflow:From <ipython-input-6-9c4f72ba3445>:2: calling argmax (from tensorflow.python.ops.math_ops) with dimension is deprecated and will be removed in a future version.\n",
      "Instructions for updating:\n",
      "Use the `axis` argument instead\n"
     ]
    },
    {
     "ename": "IndexingError",
     "evalue": "(slice(None, None, None), 'Survived')",
     "output_type": "error",
     "traceback": [
      "\u001b[1;31m---------------------------------------------------------------------------\u001b[0m",
      "\u001b[1;31mTypeError\u001b[0m                                 Traceback (most recent call last)",
      "\u001b[1;32m~\\Anaconda3\\lib\\site-packages\\pandas\\core\\indexing.py\u001b[0m in \u001b[0;36m_get_setitem_indexer\u001b[1;34m(self, key)\u001b[0m\n\u001b[0;32m    173\u001b[0m         \u001b[1;32mtry\u001b[0m\u001b[1;33m:\u001b[0m\u001b[1;33m\u001b[0m\u001b[0m\n\u001b[1;32m--> 174\u001b[1;33m             \u001b[1;32mreturn\u001b[0m \u001b[0mself\u001b[0m\u001b[1;33m.\u001b[0m\u001b[0m_convert_to_indexer\u001b[0m\u001b[1;33m(\u001b[0m\u001b[0mkey\u001b[0m\u001b[1;33m,\u001b[0m \u001b[0mis_setter\u001b[0m\u001b[1;33m=\u001b[0m\u001b[1;32mTrue\u001b[0m\u001b[1;33m)\u001b[0m\u001b[1;33m\u001b[0m\u001b[0m\n\u001b[0m\u001b[0;32m    175\u001b[0m         \u001b[1;32mexcept\u001b[0m \u001b[0mTypeError\u001b[0m \u001b[1;32mas\u001b[0m \u001b[0me\u001b[0m\u001b[1;33m:\u001b[0m\u001b[1;33m\u001b[0m\u001b[0m\n",
      "\u001b[1;32m~\\Anaconda3\\lib\\site-packages\\pandas\\core\\indexing.py\u001b[0m in \u001b[0;36m_convert_to_indexer\u001b[1;34m(self, obj, axis, is_setter)\u001b[0m\n\u001b[0;32m   1313\u001b[0m                 \u001b[1;32mif\u001b[0m \u001b[0mlabels\u001b[0m\u001b[1;33m.\u001b[0m\u001b[0mis_unique\u001b[0m\u001b[1;33m:\u001b[0m\u001b[1;33m\u001b[0m\u001b[0m\n\u001b[1;32m-> 1314\u001b[1;33m                     \u001b[0mindexer\u001b[0m \u001b[1;33m=\u001b[0m \u001b[0mcheck\u001b[0m \u001b[1;33m=\u001b[0m \u001b[0mlabels\u001b[0m\u001b[1;33m.\u001b[0m\u001b[0mget_indexer\u001b[0m\u001b[1;33m(\u001b[0m\u001b[0mobjarr\u001b[0m\u001b[1;33m)\u001b[0m\u001b[1;33m\u001b[0m\u001b[0m\n\u001b[0m\u001b[0;32m   1315\u001b[0m \u001b[1;33m\u001b[0m\u001b[0m\n",
      "\u001b[1;32m~\\Anaconda3\\lib\\site-packages\\pandas\\core\\indexes\\base.py\u001b[0m in \u001b[0;36mget_indexer\u001b[1;34m(self, target, method, limit, tolerance)\u001b[0m\n\u001b[0;32m   3240\u001b[0m             return this.get_indexer(target, method=method, limit=limit,\n\u001b[1;32m-> 3241\u001b[1;33m                                     tolerance=tolerance)\n\u001b[0m\u001b[0;32m   3242\u001b[0m \u001b[1;33m\u001b[0m\u001b[0m\n",
      "\u001b[1;32m~\\Anaconda3\\lib\\site-packages\\pandas\\core\\indexes\\base.py\u001b[0m in \u001b[0;36mget_indexer\u001b[1;34m(self, target, method, limit, tolerance)\u001b[0m\n\u001b[0;32m   3258\u001b[0m \u001b[1;33m\u001b[0m\u001b[0m\n\u001b[1;32m-> 3259\u001b[1;33m             \u001b[0mindexer\u001b[0m \u001b[1;33m=\u001b[0m \u001b[0mself\u001b[0m\u001b[1;33m.\u001b[0m\u001b[0m_engine\u001b[0m\u001b[1;33m.\u001b[0m\u001b[0mget_indexer\u001b[0m\u001b[1;33m(\u001b[0m\u001b[0mtarget\u001b[0m\u001b[1;33m.\u001b[0m\u001b[0m_ndarray_values\u001b[0m\u001b[1;33m)\u001b[0m\u001b[1;33m\u001b[0m\u001b[0m\n\u001b[0m\u001b[0;32m   3260\u001b[0m \u001b[1;33m\u001b[0m\u001b[0m\n",
      "\u001b[1;32mpandas/_libs/index.pyx\u001b[0m in \u001b[0;36mpandas._libs.index.IndexEngine.get_indexer\u001b[1;34m()\u001b[0m\n",
      "\u001b[1;32mpandas/_libs/hashtable_class_helper.pxi\u001b[0m in \u001b[0;36mpandas._libs.hashtable.PyObjectHashTable.lookup\u001b[1;34m()\u001b[0m\n",
      "\u001b[1;31mTypeError\u001b[0m: unhashable type: 'slice'",
      "\nDuring handling of the above exception, another exception occurred:\n",
      "\u001b[1;31mIndexingError\u001b[0m                             Traceback (most recent call last)",
      "\u001b[1;32m<ipython-input-6-9c4f72ba3445>\u001b[0m in \u001b[0;36m<module>\u001b[1;34m()\u001b[0m\n\u001b[0;32m      2\u001b[0m \u001b[0mrefined_prediction\u001b[0m \u001b[1;33m=\u001b[0m \u001b[0msess\u001b[0m\u001b[1;33m.\u001b[0m\u001b[0mrun\u001b[0m\u001b[1;33m(\u001b[0m\u001b[0mtf\u001b[0m\u001b[1;33m.\u001b[0m\u001b[0margmax\u001b[0m\u001b[1;33m(\u001b[0m\u001b[0mprediction\u001b[0m\u001b[1;33m,\u001b[0m \u001b[0mdimension\u001b[0m\u001b[1;33m=\u001b[0m\u001b[1;36m1\u001b[0m\u001b[1;33m)\u001b[0m\u001b[1;33m)\u001b[0m\u001b[1;33m\u001b[0m\u001b[0m\n\u001b[0;32m      3\u001b[0m \u001b[1;33m\u001b[0m\u001b[0m\n\u001b[1;32m----> 4\u001b[1;33m \u001b[0mresult_df\u001b[0m\u001b[1;33m.\u001b[0m\u001b[0mloc\u001b[0m\u001b[1;33m[\u001b[0m\u001b[1;33m:\u001b[0m\u001b[1;33m,\u001b[0m\u001b[1;34m'Survived'\u001b[0m\u001b[1;33m]\u001b[0m \u001b[1;33m=\u001b[0m \u001b[0mrefined_prediction\u001b[0m\u001b[1;33m\u001b[0m\u001b[0m\n\u001b[0m\u001b[0;32m      5\u001b[0m \u001b[1;33m\u001b[0m\u001b[0m\n\u001b[0;32m      6\u001b[0m \u001b[0mresult_df\u001b[0m\u001b[1;33m.\u001b[0m\u001b[0mto_csv\u001b[0m\u001b[1;33m(\u001b[0m\u001b[1;34m\"my_solution.csv\"\u001b[0m\u001b[1;33m,\u001b[0m \u001b[0mindex\u001b[0m\u001b[1;33m=\u001b[0m\u001b[1;32mFalse\u001b[0m\u001b[1;33m)\u001b[0m\u001b[1;33m\u001b[0m\u001b[0m\n",
      "\u001b[1;32m~\\Anaconda3\\lib\\site-packages\\pandas\\core\\indexing.py\u001b[0m in \u001b[0;36m__setitem__\u001b[1;34m(self, key, value)\u001b[0m\n\u001b[0;32m    186\u001b[0m         \u001b[1;32melse\u001b[0m\u001b[1;33m:\u001b[0m\u001b[1;33m\u001b[0m\u001b[0m\n\u001b[0;32m    187\u001b[0m             \u001b[0mkey\u001b[0m \u001b[1;33m=\u001b[0m \u001b[0mcom\u001b[0m\u001b[1;33m.\u001b[0m\u001b[0m_apply_if_callable\u001b[0m\u001b[1;33m(\u001b[0m\u001b[0mkey\u001b[0m\u001b[1;33m,\u001b[0m \u001b[0mself\u001b[0m\u001b[1;33m.\u001b[0m\u001b[0mobj\u001b[0m\u001b[1;33m)\u001b[0m\u001b[1;33m\u001b[0m\u001b[0m\n\u001b[1;32m--> 188\u001b[1;33m         \u001b[0mindexer\u001b[0m \u001b[1;33m=\u001b[0m \u001b[0mself\u001b[0m\u001b[1;33m.\u001b[0m\u001b[0m_get_setitem_indexer\u001b[0m\u001b[1;33m(\u001b[0m\u001b[0mkey\u001b[0m\u001b[1;33m)\u001b[0m\u001b[1;33m\u001b[0m\u001b[0m\n\u001b[0m\u001b[0;32m    189\u001b[0m         \u001b[0mself\u001b[0m\u001b[1;33m.\u001b[0m\u001b[0m_setitem_with_indexer\u001b[0m\u001b[1;33m(\u001b[0m\u001b[0mindexer\u001b[0m\u001b[1;33m,\u001b[0m \u001b[0mvalue\u001b[0m\u001b[1;33m)\u001b[0m\u001b[1;33m\u001b[0m\u001b[0m\n\u001b[0;32m    190\u001b[0m \u001b[1;33m\u001b[0m\u001b[0m\n",
      "\u001b[1;32m~\\Anaconda3\\lib\\site-packages\\pandas\\core\\indexing.py\u001b[0m in \u001b[0;36m_get_setitem_indexer\u001b[1;34m(self, key)\u001b[0m\n\u001b[0;32m    178\u001b[0m             \u001b[1;32mif\u001b[0m \u001b[1;34m'cannot do'\u001b[0m \u001b[1;32min\u001b[0m \u001b[0mstr\u001b[0m\u001b[1;33m(\u001b[0m\u001b[0me\u001b[0m\u001b[1;33m)\u001b[0m\u001b[1;33m:\u001b[0m\u001b[1;33m\u001b[0m\u001b[0m\n\u001b[0;32m    179\u001b[0m                 \u001b[1;32mraise\u001b[0m\u001b[1;33m\u001b[0m\u001b[0m\n\u001b[1;32m--> 180\u001b[1;33m             \u001b[1;32mraise\u001b[0m \u001b[0mIndexingError\u001b[0m\u001b[1;33m(\u001b[0m\u001b[0mkey\u001b[0m\u001b[1;33m)\u001b[0m\u001b[1;33m\u001b[0m\u001b[0m\n\u001b[0m\u001b[0;32m    181\u001b[0m \u001b[1;33m\u001b[0m\u001b[0m\n\u001b[0;32m    182\u001b[0m     \u001b[1;32mdef\u001b[0m \u001b[0m__setitem__\u001b[0m\u001b[1;33m(\u001b[0m\u001b[0mself\u001b[0m\u001b[1;33m,\u001b[0m \u001b[0mkey\u001b[0m\u001b[1;33m,\u001b[0m \u001b[0mvalue\u001b[0m\u001b[1;33m)\u001b[0m\u001b[1;33m:\u001b[0m\u001b[1;33m\u001b[0m\u001b[0m\n",
      "\u001b[1;31mIndexingError\u001b[0m: (slice(None, None, None), 'Survived')"
     ]
    }
   ],
   "source": [
    "prediction = sess.run(hypothesis, feed_dict={X:test_df})\n",
    "refined_prediction = sess.run(tf.argmax(prediction, dimension=1))\n",
    "\n",
    "result_df.loc[:,'Survived'] = refined_prediction\n",
    "\n",
    "result_df.to_csv(\"my_solution.csv\", index=False)"
   ]
  }
 ],
 "metadata": {
  "kernelspec": {
   "display_name": "Python 3",
   "language": "python",
   "name": "python3"
  },
  "language_info": {
   "codemirror_mode": {
    "name": "ipython",
    "version": 3
   },
   "file_extension": ".py",
   "mimetype": "text/x-python",
   "name": "python",
   "nbconvert_exporter": "python",
   "pygments_lexer": "ipython3",
   "version": "3.6.6"
  }
 },
 "nbformat": 4,
 "nbformat_minor": 1
}
