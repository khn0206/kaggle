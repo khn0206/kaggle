{
 "cells": [
  {
   "cell_type": "code",
   "execution_count": 1,
   "metadata": {
    "_cell_guid": "79c7e3d0-c299-4dcb-8224-4455121ee9b0",
    "_uuid": "d629ff2d2480ee46fbb7e2d37f6b5fab8052498a",
    "scrolled": false
   },
   "outputs": [],
   "source": [
    "#khn0206@gmail.com\n",
    "\n",
    "import tensorflow as tf\n",
    "import pandas as pd\n",
    "import numpy as np\n",
    "import math\n",
    "\n",
    "train_df = pd.read_csv('data/train.csv')\n",
    "test_df = pd.read_csv('data/test.csv')\n",
    "result_df = pd.read_csv('data/test.csv', usecols=['PassengerId'])\n",
    "\n",
    "train_df = train_df.drop(['PassengerId', 'Name', 'Ticket'], axis=1)\n",
    "test_df = test_df.drop(['PassengerId', 'Name', 'Ticket'], axis=1)"
   ]
  },
  {
   "cell_type": "code",
   "execution_count": 2,
   "metadata": {
    "_uuid": "f360a608114108d2cf483a37d715751f8f114c2a"
   },
   "outputs": [],
   "source": [
    "def convertDataToNumber(df, namelist):\n",
    "    for name in namelist:\n",
    "        name_class = df[name].unique()\n",
    "        pairs = {}\n",
    "        for index in range(len(name_class)):\n",
    "            pairs[name_class[index]] = index\n",
    "        for key, value in pairs.items():\n",
    "            df[name] = df[name].replace(key, value)\n",
    "    return df\n",
    "\n",
    "def preprocessingData(df):\n",
    "    \n",
    "    age_mean_male = int(df[['Sex','Age']].loc[df['Sex'] == 'male'].mean())\n",
    "    age_mean_female = int(df[['Sex','Age']].loc[df['Sex'] == 'female'].mean())\n",
    "\n",
    "    for index, row in df.iterrows():\n",
    "        if pd.isnull(row['Age']) and row['Sex'] == 'male':\n",
    "            df.set_value(index, 'Age', age_mean_male)\n",
    "        elif pd.isnull(row['Age']) and row['Sex'] == 'female':\n",
    "            df.set_value(index, 'Age', age_mean_female)\n",
    "    \n",
    "    df['Embarked'] = df['Embarked'].fillna('S')\n",
    "    \n",
    "    df['Cabin'] = df['Cabin'].str[0]\n",
    "    df['Cabin'] = df['Cabin'].fillna('N')\n",
    "    \n",
    "    df = convertDataToNumber(df, ['Sex', 'Embarked', 'Cabin'])\n",
    "    \n",
    "    df_normalized = (df - df.mean()) / (df.max() - df.min())\n",
    "    \n",
    "    return df_normalized\n",
    "    \n",
    "def getBatch(df, index=None):\n",
    "    batch = df.sample(50)\n",
    "    \n",
    "    batch_x = batch[['Pclass', 'Sex', 'Age', 'Age', 'SibSp', 'Parch', 'Fare', 'Cabin', 'Embarked']]\n",
    "    batch_y = pd.get_dummies(batch.pop('Survived').values).as_matrix()\n",
    "    \n",
    "    return batch_x, batch_y"
   ]
  },
  {
   "cell_type": "code",
   "execution_count": 3,
   "metadata": {
    "_uuid": "57d7813b792e86f86ffe753bccf4a9500bcac2c5"
   },
   "outputs": [
    {
     "name": "stderr",
     "output_type": "stream",
     "text": [
      "C:\\Users\\khn02\\Anaconda3\\lib\\site-packages\\ipykernel_launcher.py:18: FutureWarning: set_value is deprecated and will be removed in a future release. Please use .at[] or .iat[] accessors instead\n",
      "C:\\Users\\khn02\\Anaconda3\\lib\\site-packages\\ipykernel_launcher.py:20: FutureWarning: set_value is deprecated and will be removed in a future release. Please use .at[] or .iat[] accessors instead\n"
     ]
    }
   ],
   "source": [
    "train_df = preprocessingData(train_df)\n",
    "test_df = preprocessingData(test_df)"
   ]
  },
  {
   "cell_type": "code",
   "execution_count": 4,
   "metadata": {
    "_uuid": "6f1d969b768547dbe11cc6e4e75a76bf8739cf90"
   },
   "outputs": [],
   "source": [
    "def build_cnn():\n",
    "    X = tf.placeholder('float32', [None, 9])\n",
    "    X_2d  = tf.reshape(X, [-1, 3, 3, 1])\n",
    "    Y = tf.placeholder('float32', [None, 2])\n",
    "\n",
    "    W1 = tf.get_variable(\"W1\", shape=[2, 2, 1, 32], initializer=tf.contrib.layers.xavier_initializer())\n",
    "\n",
    "    L1 = tf.nn.conv2d(X_2d, W1, strides=[1, 1, 1, 1], padding='SAME')\n",
    "    L1 = tf.nn.relu(L1)\n",
    "    L1 = tf.nn.max_pool(L1, ksize=[1, 2, 2, 1], strides=[1, 1, 1, 1], padding='VALID')\n",
    "\n",
    "    W2 = tf.get_variable(\"W2\", shape=[1, 1, 32, 64], initializer=tf.contrib.layers.xavier_initializer())\n",
    "\n",
    "    L2 = tf.nn.conv2d(L1, W2, strides=[1, 1, 1, 1], padding='SAME')\n",
    "    L2 = tf.nn.relu(L2)\n",
    "    L2 = tf.nn.max_pool(L2, ksize=[1, 1, 1, 1], strides=[1, 1, 1, 1], padding='SAME')\n",
    "    L2 = tf.reshape(L2, [-1, 2*2*64])\n",
    "\n",
    "    W3 = tf.get_variable(\"W3\", shape=[2*2*64, 2], initializer=tf.contrib.layers.xavier_initializer())\n",
    "    hypothesis = tf.matmul(L2, W3)\n",
    "\n",
    "    # cost = tf.reduce_mean(-tf.reduce_sum(Y * tf.log(hypothesis + 1e-10), reduction_indices=1))\n",
    "    cost = tf.reduce_mean(tf.nn.softmax_cross_entropy_with_logits(logits=hypothesis, labels=Y))\n",
    "\n",
    "    optimizer = tf.train.AdamOptimizer(0.001).minimize(cost)"
   ]
  },
  {
   "cell_type": "code",
   "execution_count": 5,
   "metadata": {},
   "outputs": [],
   "source": [
    "def build_nn():\n",
    "    X = tf.placeholder('float32', [None, train_df.shape[1] - 1])\n",
    "    Y = tf.placeholder('float32', [None, 2])\n",
    "\n",
    "    W1 = tf.Variable(tf.zeros([8, 100]))\n",
    "    b1 = tf.Variable(tf.zeros([100]))\n",
    "\n",
    "    layer1 = tf.nn.sigmoid(tf.matmul(X, W1) + b1)\n",
    "    layer1 = tf.nn.dropout(layer1, 0.9)\n",
    "\n",
    "    W2 = tf.Variable(tf.zeros([100, 2]))\n",
    "    b2 = tf.Variable(tf.zeros([2]))\n",
    "\n",
    "    hypothesis = tf.nn.softmax(tf.matmul(layer1, W2))\n",
    "\n",
    "    cost = tf.reduce_mean(-tf.reduce_sum(Y * tf.log(hypothesis + 1e-10), reduction_indices=1))\n",
    "    optimizer = tf.train.AdamOptimizer(0.001).minimize(cost)"
   ]
  },
  {
   "cell_type": "code",
   "execution_count": 6,
   "metadata": {
    "_uuid": "cbded58ed5e85510dc31dd204cf2272544430f25"
   },
   "outputs": [
    {
     "name": "stderr",
     "output_type": "stream",
     "text": [
      "C:\\Users\\khn02\\Anaconda3\\lib\\site-packages\\ipykernel_launcher.py:37: FutureWarning: Method .as_matrix will be removed in a future version. Use .values instead.\n"
     ]
    },
    {
     "name": "stdout",
     "output_type": "stream",
     "text": [
      "Epoch: 0001 cost = 0.432282550\n",
      "Epoch: 0002 cost = 0.380992864\n",
      "Epoch: 0003 cost = 0.361493393\n",
      "Epoch: 0004 cost = 0.352852455\n",
      "Epoch: 0005 cost = 0.342035783\n",
      "Epoch: 0006 cost = 0.335092901\n",
      "Epoch: 0007 cost = 0.326002376\n",
      "Epoch: 0008 cost = 0.321301644\n",
      "Epoch: 0009 cost = 0.316781302\n",
      "Epoch: 0010 cost = 0.311559397\n",
      "Epoch: 0011 cost = 0.307774619\n",
      "Epoch: 0012 cost = 0.302761223\n",
      "Epoch: 0013 cost = 0.295369503\n",
      "Epoch: 0014 cost = 0.296916862\n",
      "Epoch: 0015 cost = 0.291005385\n",
      "Epoch: 0016 cost = 0.285869346\n",
      "Epoch: 0017 cost = 0.279925396\n",
      "Epoch: 0018 cost = 0.278311035\n",
      "Epoch: 0019 cost = 0.275183945\n",
      "Epoch: 0020 cost = 0.270687280\n",
      "Epoch: 0021 cost = 0.268558946\n",
      "Epoch: 0022 cost = 0.262836110\n",
      "Epoch: 0023 cost = 0.266282063\n",
      "Epoch: 0024 cost = 0.261991908\n",
      "Epoch: 0025 cost = 0.260815206\n",
      "Epoch: 0026 cost = 0.257351372\n",
      "Epoch: 0027 cost = 0.255824094\n",
      "Epoch: 0028 cost = 0.249289767\n",
      "Epoch: 0029 cost = 0.254852932\n",
      "Epoch: 0030 cost = 0.251134928\n",
      "Epoch: 0031 cost = 0.249025222\n",
      "Epoch: 0032 cost = 0.249653725\n",
      "Epoch: 0033 cost = 0.247661149\n",
      "Epoch: 0034 cost = 0.245362694\n",
      "Epoch: 0035 cost = 0.239560472\n",
      "Epoch: 0036 cost = 0.244788118\n",
      "Epoch: 0037 cost = 0.241794174\n",
      "Epoch: 0038 cost = 0.240219656\n",
      "Epoch: 0039 cost = 0.240377522\n",
      "Epoch: 0040 cost = 0.238553860\n",
      "Epoch: 0041 cost = 0.239322316\n",
      "Epoch: 0042 cost = 0.233027083\n",
      "Epoch: 0043 cost = 0.238195604\n",
      "Epoch: 0044 cost = 0.231787345\n",
      "Epoch: 0045 cost = 0.232210708\n",
      "Epoch: 0046 cost = 0.231992680\n",
      "Epoch: 0047 cost = 0.231896517\n",
      "Epoch: 0048 cost = 0.233106548\n",
      "Epoch: 0049 cost = 0.230373064\n",
      "Epoch: 0050 cost = 0.226831690\n",
      "Epoch: 0051 cost = 0.228880122\n",
      "Epoch: 0052 cost = 0.232548601\n",
      "Epoch: 0053 cost = 0.229728023\n",
      "Epoch: 0054 cost = 0.230757657\n",
      "Epoch: 0055 cost = 0.227291457\n",
      "Epoch: 0056 cost = 0.224969744\n",
      "Epoch: 0057 cost = 0.225253274\n",
      "Epoch: 0058 cost = 0.225458557\n",
      "Epoch: 0059 cost = 0.226267326\n",
      "Epoch: 0060 cost = 0.224603731\n",
      "Epoch: 0061 cost = 0.223957395\n",
      "Epoch: 0062 cost = 0.224719402\n",
      "Epoch: 0063 cost = 0.218661290\n",
      "Epoch: 0064 cost = 0.224059832\n",
      "Epoch: 0065 cost = 0.225363333\n",
      "Epoch: 0066 cost = 0.219104706\n",
      "Epoch: 0067 cost = 0.221911085\n",
      "Epoch: 0068 cost = 0.221606024\n",
      "Epoch: 0069 cost = 0.220153398\n",
      "Epoch: 0070 cost = 0.219562799\n",
      "Epoch: 0071 cost = 0.212268716\n",
      "Epoch: 0072 cost = 0.218524748\n",
      "Epoch: 0073 cost = 0.220726987\n",
      "Epoch: 0074 cost = 0.215753918\n",
      "Epoch: 0075 cost = 0.215591370\n",
      "Epoch: 0076 cost = 0.220004451\n",
      "Epoch: 0077 cost = 0.214835703\n",
      "Epoch: 0078 cost = 0.214703211\n",
      "Epoch: 0079 cost = 0.214761730\n",
      "Epoch: 0080 cost = 0.211133276\n",
      "Epoch: 0081 cost = 0.215402610\n",
      "Epoch: 0082 cost = 0.211352197\n",
      "Epoch: 0083 cost = 0.212932653\n",
      "Epoch: 0084 cost = 0.215672711\n",
      "Epoch: 0085 cost = 0.212002209\n",
      "Epoch: 0086 cost = 0.217359975\n",
      "Epoch: 0087 cost = 0.216210242\n",
      "Epoch: 0088 cost = 0.210100697\n",
      "Epoch: 0089 cost = 0.214637028\n",
      "Epoch: 0090 cost = 0.211863171\n",
      "Epoch: 0091 cost = 0.210597776\n",
      "Epoch: 0092 cost = 0.210465711\n",
      "Epoch: 0093 cost = 0.210417745\n",
      "Epoch: 0094 cost = 0.208597566\n",
      "Epoch: 0095 cost = 0.208789572\n",
      "Epoch: 0096 cost = 0.205502177\n",
      "Epoch: 0097 cost = 0.208866729\n",
      "Epoch: 0098 cost = 0.206302825\n",
      "Epoch: 0099 cost = 0.209584763\n",
      "Epoch: 0100 cost = 0.206081609\n",
      "Leaning finished\n"
     ]
    }
   ],
   "source": [
    "sess = tf.Session()\n",
    "\n",
    "sess.run(tf.global_variables_initializer())\n",
    "\n",
    "training_epochs = 100\n",
    "total_batch = 1000\n",
    "\n",
    "for epoch in range(training_epochs):\n",
    "    avg_cost = 0    \n",
    "    for i in range(total_batch):        \n",
    "        batch_x, batch_y = getBatch(train_df)\n",
    "        feed_dict = {X:batch_x, Y:batch_y}\n",
    "        c, _ = sess.run([cost, optimizer], feed_dict=feed_dict)\n",
    "        avg_cost += c / total_batch\n",
    "    print('Epoch:', '%04d' % (epoch + 1), 'cost =', '{:.9f}'.format(avg_cost))\n",
    "    \n",
    "print('Leaning finished')"
   ]
  },
  {
   "cell_type": "code",
   "execution_count": 8,
   "metadata": {
    "_uuid": "bb085cee231c9bfbe639b5795a27ab2c9342ba69"
   },
   "outputs": [
    {
     "name": "stdout",
     "output_type": "stream",
     "text": [
      "WARNING:tensorflow:From <ipython-input-8-3f6ee6e48463>:4: calling argmax (from tensorflow.python.ops.math_ops) with dimension is deprecated and will be removed in a future version.\n",
      "Instructions for updating:\n",
      "Use the `axis` argument instead\n"
     ]
    }
   ],
   "source": [
    "test_df = test_df[['Pclass', 'Sex', 'Age', 'Age', 'SibSp', 'Parch', 'Fare', 'Cabin', 'Embarked']]\n",
    "\n",
    "prediction = sess.run(hypothesis, feed_dict={X:test_df})\n",
    "refined_prediction = sess.run(tf.argmax(prediction, dimension=1))\n",
    "\n",
    "result_df.loc[:,'Survived'] = refined_prediction\n",
    "\n",
    "result_df.to_csv(\"my_solution.csv\", index=False)"
   ]
  },
  {
   "cell_type": "code",
   "execution_count": null,
   "metadata": {},
   "outputs": [],
   "source": []
  }
 ],
 "metadata": {
  "kernelspec": {
   "display_name": "Python 3",
   "language": "python",
   "name": "python3"
  },
  "language_info": {
   "codemirror_mode": {
    "name": "ipython",
    "version": 3
   },
   "file_extension": ".py",
   "mimetype": "text/x-python",
   "name": "python",
   "nbconvert_exporter": "python",
   "pygments_lexer": "ipython3",
   "version": "3.6.6"
  }
 },
 "nbformat": 4,
 "nbformat_minor": 1
}
