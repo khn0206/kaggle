{
 "cells": [
  {
   "cell_type": "code",
   "execution_count": 1,
   "metadata": {
    "_cell_guid": "79c7e3d0-c299-4dcb-8224-4455121ee9b0",
    "_uuid": "d629ff2d2480ee46fbb7e2d37f6b5fab8052498a",
    "scrolled": false
   },
   "outputs": [],
   "source": [
    "#khn0206@gmail.com\n",
    "\n",
    "import tensorflow as tf\n",
    "import pandas as pd\n",
    "import numpy as np\n",
    "import math\n",
    "\n",
    "train_df = pd.read_csv('data/train.csv')\n",
    "test_df = pd.read_csv('data/test.csv')\n",
    "result_df = pd.read_csv('data/test.csv', usecols=['PassengerId'])\n",
    "\n",
    "train_df = train_df.drop(['PassengerId', 'Name', 'Ticket'], axis=1)\n",
    "test_df = test_df.drop(['PassengerId', 'Name', 'Ticket'], axis=1)"
   ]
  },
  {
   "cell_type": "code",
   "execution_count": 2,
   "metadata": {
    "_uuid": "f360a608114108d2cf483a37d715751f8f114c2a"
   },
   "outputs": [],
   "source": [
    "def convertDataToNumber(df, namelist):\n",
    "    for name in namelist:\n",
    "        name_class = df[name].unique()\n",
    "        pairs = {}\n",
    "        for index in range(len(name_class)):\n",
    "            pairs[name_class[index]] = index\n",
    "        for key, value in pairs.items():\n",
    "            df[name] = df[name].replace(key, value)\n",
    "    return df\n",
    "\n",
    "def preprocessingData(df):\n",
    "    \n",
    "    age_mean_male = int(df[['Sex','Age']].loc[df['Sex'] == 'male'].mean())\n",
    "    age_mean_female = int(df[['Sex','Age']].loc[df['Sex'] == 'female'].mean())\n",
    "\n",
    "    for index, row in df.iterrows():\n",
    "        if pd.isnull(row['Age']) and row['Sex'] == 'male':\n",
    "            df.set_value(index, 'Age', age_mean_male)\n",
    "        elif pd.isnull(row['Age']) and row['Sex'] == 'female':\n",
    "            df.set_value(index, 'Age', age_mean_female)\n",
    "    \n",
    "    df['Embarked'] = df['Embarked'].fillna('S')\n",
    "    \n",
    "    df['Cabin'] = df['Cabin'].str[0]\n",
    "    df['Cabin'] = df['Cabin'].fillna('N')\n",
    "    \n",
    "    df = convertDataToNumber(df, ['Sex', 'Embarked', 'Cabin'])\n",
    "    \n",
    "    df_normalized = (df - df.mean()) / (df.max() - df.min())\n",
    "    \n",
    "    return df_normalized\n",
    "    \n",
    "def getBatch(df, index=None):\n",
    "    batch = df.sample(50)\n",
    "    \n",
    "    batch_x = batch[['Pclass', 'Sex', 'Age', 'Age', 'SibSp', 'Parch', 'Fare', 'Cabin', 'Embarked']]\n",
    "    batch_y = pd.get_dummies(batch.pop('Survived').values).as_matrix()\n",
    "    \n",
    "    return batch_x, batch_y"
   ]
  },
  {
   "cell_type": "code",
   "execution_count": 3,
   "metadata": {
    "_uuid": "57d7813b792e86f86ffe753bccf4a9500bcac2c5"
   },
   "outputs": [
    {
     "name": "stderr",
     "output_type": "stream",
     "text": [
      "C:\\Users\\khn02\\Anaconda3\\lib\\site-packages\\ipykernel_launcher.py:18: FutureWarning: set_value is deprecated and will be removed in a future release. Please use .at[] or .iat[] accessors instead\n",
      "C:\\Users\\khn02\\Anaconda3\\lib\\site-packages\\ipykernel_launcher.py:20: FutureWarning: set_value is deprecated and will be removed in a future release. Please use .at[] or .iat[] accessors instead\n"
     ]
    }
   ],
   "source": [
    "train_df = preprocessingData(train_df)\n",
    "test_df = preprocessingData(test_df)"
   ]
  },
  {
   "cell_type": "code",
   "execution_count": 4,
   "metadata": {
    "_uuid": "6f1d969b768547dbe11cc6e4e75a76bf8739cf90"
   },
   "outputs": [],
   "source": [
    "X = tf.placeholder('float32', [None, 9])\n",
    "X_2d  = tf.reshape(X, [-1, 3, 3, 1])\n",
    "Y = tf.placeholder('float32', [None, 2])\n",
    "\n",
    "W1 = tf.get_variable(\"W1\", shape=[2, 2, 1, 32], initializer=tf.contrib.layers.xavier_initializer())\n",
    "\n",
    "L1 = tf.nn.conv2d(X_2d, W1, strides=[1, 1, 1, 1], padding='SAME')\n",
    "L1 = tf.nn.relu(L1)\n",
    "L1 = tf.nn.max_pool(L1, ksize=[1, 2, 2, 1], strides=[1, 1, 1, 1], padding='VALID')\n",
    "\n",
    "W2 = tf.get_variable(\"W2\", shape=[1, 1, 32, 64], initializer=tf.contrib.layers.xavier_initializer())\n",
    "\n",
    "L2 = tf.nn.conv2d(L1, W2, strides=[1, 1, 1, 1], padding='SAME')\n",
    "L2 = tf.nn.relu(L2)\n",
    "L2 = tf.nn.max_pool(L2, ksize=[1, 1, 1, 1], strides=[1, 1, 1, 1], padding='SAME')\n",
    "L2 = tf.reshape(L2, [-1, 2*2*64])\n",
    "\n",
    "W3 = tf.get_variable(\"W3\", shape=[2*2*64, 2], initializer=tf.contrib.layers.xavier_initializer())\n",
    "hypothesis = tf.matmul(L2, W3)\n",
    "\n",
    "# cost = tf.reduce_mean(-tf.reduce_sum(Y * tf.log(hypothesis + 1e-10), reduction_indices=1))\n",
    "cost = tf.reduce_mean(tf.nn.softmax_cross_entropy_with_logits(logits=hypothesis, labels=Y))\n",
    "\n",
    "optimizer = tf.train.AdamOptimizer(0.001).minimize(cost)"
   ]
  },
  {
   "cell_type": "code",
   "execution_count": 5,
   "metadata": {
    "_uuid": "cbded58ed5e85510dc31dd204cf2272544430f25"
   },
   "outputs": [
    {
     "name": "stderr",
     "output_type": "stream",
     "text": [
      "C:\\Users\\khn02\\Anaconda3\\lib\\site-packages\\ipykernel_launcher.py:37: FutureWarning: Method .as_matrix will be removed in a future version. Use .values instead.\n"
     ]
    },
    {
     "name": "stdout",
     "output_type": "stream",
     "text": [
      "Epoch: 0001 cost = 0.603250706\n",
      "Epoch: 0002 cost = 0.501237480\n",
      "Epoch: 0003 cost = 0.443857658\n",
      "Epoch: 0004 cost = 0.442735936\n",
      "Epoch: 0005 cost = 0.411601383\n",
      "Epoch: 0006 cost = 0.410644464\n",
      "Epoch: 0007 cost = 0.388074892\n",
      "Epoch: 0008 cost = 0.410872310\n",
      "Epoch: 0009 cost = 0.398013740\n",
      "Epoch: 0010 cost = 0.377872762\n",
      "Epoch: 0011 cost = 0.382161790\n",
      "Epoch: 0012 cost = 0.377055575\n",
      "Epoch: 0013 cost = 0.381564520\n",
      "Epoch: 0014 cost = 0.378272261\n",
      "Epoch: 0015 cost = 0.385138526\n",
      "Epoch: 0016 cost = 0.376472894\n",
      "Epoch: 0017 cost = 0.369250470\n",
      "Epoch: 0018 cost = 0.382431559\n",
      "Epoch: 0019 cost = 0.369130192\n",
      "Epoch: 0020 cost = 0.380826934\n",
      "Epoch: 0021 cost = 0.373642359\n",
      "Epoch: 0022 cost = 0.363722053\n",
      "Epoch: 0023 cost = 0.373648473\n",
      "Epoch: 0024 cost = 0.372212067\n",
      "Epoch: 0025 cost = 0.375910466\n",
      "Epoch: 0026 cost = 0.370814288\n",
      "Epoch: 0027 cost = 0.363812254\n",
      "Epoch: 0028 cost = 0.355453513\n",
      "Epoch: 0029 cost = 0.375562041\n",
      "Epoch: 0030 cost = 0.374713204\n",
      "Epoch: 0031 cost = 0.354504902\n",
      "Epoch: 0032 cost = 0.360932247\n",
      "Epoch: 0033 cost = 0.359278889\n",
      "Epoch: 0034 cost = 0.352775236\n",
      "Epoch: 0035 cost = 0.345654776\n",
      "Epoch: 0036 cost = 0.355667537\n",
      "Epoch: 0037 cost = 0.347611977\n",
      "Epoch: 0038 cost = 0.363468561\n",
      "Epoch: 0039 cost = 0.355891998\n",
      "Epoch: 0040 cost = 0.366966766\n",
      "Epoch: 0041 cost = 0.356762332\n",
      "Epoch: 0042 cost = 0.353922425\n",
      "Epoch: 0043 cost = 0.341430936\n",
      "Epoch: 0044 cost = 0.352168548\n",
      "Epoch: 0045 cost = 0.340045661\n",
      "Epoch: 0046 cost = 0.351209006\n",
      "Epoch: 0047 cost = 0.337163334\n",
      "Epoch: 0048 cost = 0.344090759\n",
      "Epoch: 0049 cost = 0.339583629\n",
      "Epoch: 0050 cost = 0.351040782\n",
      "Epoch: 0051 cost = 0.360790599\n",
      "Epoch: 0052 cost = 0.344846343\n",
      "Epoch: 0053 cost = 0.341993209\n",
      "Epoch: 0054 cost = 0.324457469\n",
      "Epoch: 0055 cost = 0.344708184\n",
      "Epoch: 0056 cost = 0.340264692\n",
      "Epoch: 0057 cost = 0.332240072\n",
      "Epoch: 0058 cost = 0.336412782\n",
      "Epoch: 0059 cost = 0.334599262\n",
      "Epoch: 0060 cost = 0.336825496\n",
      "Epoch: 0061 cost = 0.348375163\n",
      "Epoch: 0062 cost = 0.324715481\n",
      "Epoch: 0063 cost = 0.340474574\n",
      "Epoch: 0064 cost = 0.324732029\n",
      "Epoch: 0065 cost = 0.329122253\n",
      "Epoch: 0066 cost = 0.335708245\n",
      "Epoch: 0067 cost = 0.327558447\n",
      "Epoch: 0068 cost = 0.331408030\n",
      "Epoch: 0069 cost = 0.316830875\n",
      "Epoch: 0070 cost = 0.325299492\n",
      "Epoch: 0071 cost = 0.323433324\n",
      "Epoch: 0072 cost = 0.327143620\n",
      "Epoch: 0073 cost = 0.332935138\n",
      "Epoch: 0074 cost = 0.331304954\n",
      "Epoch: 0075 cost = 0.315390203\n",
      "Epoch: 0076 cost = 0.332965511\n",
      "Epoch: 0077 cost = 0.327865506\n",
      "Epoch: 0078 cost = 0.320392527\n",
      "Epoch: 0079 cost = 0.328479681\n",
      "Epoch: 0080 cost = 0.326867094\n",
      "Epoch: 0081 cost = 0.318587117\n",
      "Epoch: 0082 cost = 0.323786384\n",
      "Epoch: 0083 cost = 0.323588846\n",
      "Epoch: 0084 cost = 0.316698550\n",
      "Epoch: 0085 cost = 0.330820566\n",
      "Epoch: 0086 cost = 0.303829535\n",
      "Epoch: 0087 cost = 0.323284199\n",
      "Epoch: 0088 cost = 0.321492464\n",
      "Epoch: 0089 cost = 0.323270382\n",
      "Epoch: 0090 cost = 0.314252114\n",
      "Epoch: 0091 cost = 0.309397888\n",
      "Epoch: 0092 cost = 0.307626723\n",
      "Epoch: 0093 cost = 0.310683514\n",
      "Epoch: 0094 cost = 0.315626861\n",
      "Epoch: 0095 cost = 0.305394756\n",
      "Epoch: 0096 cost = 0.313079468\n",
      "Epoch: 0097 cost = 0.314539253\n",
      "Epoch: 0098 cost = 0.300298104\n",
      "Epoch: 0099 cost = 0.313095629\n",
      "Epoch: 0100 cost = 0.311360641\n",
      "Leaning finished\n"
     ]
    }
   ],
   "source": [
    "sess = tf.Session()\n",
    "\n",
    "sess.run(tf.global_variables_initializer())\n",
    "\n",
    "training_epochs = 100\n",
    "total_batch = 100\n",
    "\n",
    "for epoch in range(training_epochs):\n",
    "    avg_cost = 0    \n",
    "    for i in range(total_batch):        \n",
    "        batch_x, batch_y = getBatch(train_df)\n",
    "        feed_dict = {X:batch_x, Y:batch_y}\n",
    "        c, _ = sess.run([cost, optimizer], feed_dict=feed_dict)\n",
    "        avg_cost += c / total_batch\n",
    "    print('Epoch:', '%04d' % (epoch + 1), 'cost =', '{:.9f}'.format(avg_cost))\n",
    "    \n",
    "print('Leaning finished')"
   ]
  },
  {
   "cell_type": "code",
   "execution_count": 6,
   "metadata": {
    "_uuid": "bb085cee231c9bfbe639b5795a27ab2c9342ba69"
   },
   "outputs": [
    {
     "name": "stdout",
     "output_type": "stream",
     "text": [
      "WARNING:tensorflow:From <ipython-input-6-3f6ee6e48463>:4: calling argmax (from tensorflow.python.ops.math_ops) with dimension is deprecated and will be removed in a future version.\n",
      "Instructions for updating:\n",
      "Use the `axis` argument instead\n"
     ]
    }
   ],
   "source": [
    "test_df = test_df[['Pclass', 'Sex', 'Age', 'Age', 'SibSp', 'Parch', 'Fare', 'Cabin', 'Embarked']]\n",
    "\n",
    "prediction = sess.run(hypothesis, feed_dict={X:test_df})\n",
    "refined_prediction = sess.run(tf.argmax(prediction, dimension=1))\n",
    "\n",
    "result_df.loc[:,'Survived'] = refined_prediction\n",
    "\n",
    "result_df.to_csv(\"my_solution.csv\", index=False)"
   ]
  }
 ],
 "metadata": {
  "kernelspec": {
   "display_name": "Python 3",
   "language": "python",
   "name": "python3"
  },
  "language_info": {
   "codemirror_mode": {
    "name": "ipython",
    "version": 3
   },
   "file_extension": ".py",
   "mimetype": "text/x-python",
   "name": "python",
   "nbconvert_exporter": "python",
   "pygments_lexer": "ipython3",
   "version": "3.6.6"
  }
 },
 "nbformat": 4,
 "nbformat_minor": 1
}
